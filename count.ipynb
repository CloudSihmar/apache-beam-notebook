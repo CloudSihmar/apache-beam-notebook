{
 "cells": [
  {
   "cell_type": "code",
   "execution_count": 1,
   "id": "c4f11b6f-25e0-4b1a-bc4f-a9950f45194c",
   "metadata": {
    "tags": []
   },
   "outputs": [],
   "source": [
    "!gcloud services enable dataflow"
   ]
  },
  {
   "cell_type": "code",
   "execution_count": 2,
   "id": "47927516-a672-43a8-8a9b-2511d27ebb51",
   "metadata": {
    "tags": []
   },
   "outputs": [],
   "source": [
    "import re\n",
    "import apache_beam as beam\n",
    "from apache_beam.options import pipeline_options\n",
    "from apache_beam.options.pipeline_options import GoogleCloudOptions\n",
    "from apache_beam.runners import DataflowRunner\n",
    "from apache_beam.runners.interactive.interactive_runner import InteractiveRunner\n",
    "import apache_beam.runners.interactive.interactive_beam as ib"
   ]
  },
  {
   "cell_type": "code",
   "execution_count": 3,
   "id": "6eb7fba0-b27c-405b-9d18-95181f7e9536",
   "metadata": {
    "tags": []
   },
   "outputs": [],
   "source": [
    "import google.auth"
   ]
  },
  {
   "cell_type": "code",
   "execution_count": 4,
   "id": "4861b5e7-7fb5-4868-9631-4aaba4d0b056",
   "metadata": {
    "tags": []
   },
   "outputs": [],
   "source": [
    "class ReadWordsFromText(beam.PTransform):\n",
    "    \n",
    "    def __init__(self, file_pattern):\n",
    "        self._file_pattern = file_pattern\n",
    "    \n",
    "    def expand(self, pcoll):\n",
    "        return (pcoll.pipeline\n",
    "                | beam.io.ReadFromText(self._file_pattern)\n",
    "                | beam.FlatMap(lambda line: re.findall(r'[\\w\\']+', line.strip(), re.UNICODE)))\n",
    "    \n",
    "p = beam.Pipeline(InteractiveRunner())\n",
    "\n",
    "words = p | 'read' >> ReadWordsFromText('gs://sandeep-apache/data.txt')\n",
    "\n",
    "counts = (words \n",
    "          | 'count' >> beam.combiners.Count.PerElement())\n",
    "\n",
    "lower_counts = (words\n",
    "                | \"lower\" >> beam.Map(lambda word: word.lower())\n",
    "                | \"lower_count\" >> beam.combiners.Count.PerElement())"
   ]
  },
  {
   "cell_type": "code",
   "execution_count": 5,
   "id": "4495efc3-a23d-4afe-a655-468595a3798b",
   "metadata": {
    "tags": []
   },
   "outputs": [
    {
     "data": {
      "text/html": [
       "\n",
       "            <link rel=\"stylesheet\" href=\"https://stackpath.bootstrapcdn.com/bootstrap/4.4.1/css/bootstrap.min.css\" integrity=\"sha384-Vkoo8x4CGsO3+Hhxv8T/Q5PaXtkKtu6ug5TOeNV6gBiFeWPGFN9MuhOf23Q9Ifjh\" crossorigin=\"anonymous\">\n",
       "            <div id=\"progress_indicator_e62c3cdd9f4e3ce57089dca7f897a304\">\n",
       "              <div class=\"spinner-border text-info\" role=\"status\"></div>\n",
       "              <span class=\"text-info\">Processing... show</span>\n",
       "            </div>\n",
       "            "
      ],
      "text/plain": [
       "<IPython.core.display.HTML object>"
      ]
     },
     "metadata": {},
     "output_type": "display_data"
    },
    {
     "data": {
      "text/html": [
       "\n",
       "            <style>\n",
       "            .p-Widget.jp-OutputPrompt.jp-OutputArea-prompt:empty {\n",
       "              padding: 0;\n",
       "              border: 0;\n",
       "            }\n",
       "            .p-Widget.jp-RenderedJavaScript.jp-mod-trusted.jp-OutputArea-output:empty {\n",
       "              padding: 0;\n",
       "              border: 0;\n",
       "            }\n",
       "            </style>\n",
       "            <link rel=\"stylesheet\" href=\"https://cdn.datatables.net/1.10.20/css/jquery.dataTables.min.css\">\n",
       "            <table id=\"table_df_ea0d550d447d8732089a78da4fd7fa14\" class=\"display\" style=\"display:block\"></table>\n",
       "            <script>\n",
       "              \n",
       "        if (typeof window.interactive_beam_jquery == 'undefined') {\n",
       "          var jqueryScript = document.createElement('script');\n",
       "          jqueryScript.src = 'https://code.jquery.com/jquery-3.4.1.slim.min.js';\n",
       "          jqueryScript.type = 'text/javascript';\n",
       "          jqueryScript.onload = function() {\n",
       "            var datatableScript = document.createElement('script');\n",
       "            datatableScript.src = 'https://cdn.datatables.net/1.10.20/js/jquery.dataTables.min.js';\n",
       "            datatableScript.type = 'text/javascript';\n",
       "            datatableScript.onload = function() {\n",
       "              window.interactive_beam_jquery = jQuery.noConflict(true);\n",
       "              window.interactive_beam_jquery(document).ready(function($){\n",
       "                \n",
       "            var dt;\n",
       "            if ($.fn.dataTable.isDataTable(\"#table_df_ea0d550d447d8732089a78da4fd7fa14\")) {\n",
       "              dt = $(\"#table_df_ea0d550d447d8732089a78da4fd7fa14\").dataTable();\n",
       "            } else if ($(\"#table_df_ea0d550d447d8732089a78da4fd7fa14_wrapper\").length == 0) {\n",
       "              dt = $(\"#table_df_ea0d550d447d8732089a78da4fd7fa14\").dataTable({\n",
       "                \n",
       "            bAutoWidth: false,\n",
       "            columns: [{'title': ''}, {'title': 'counts.0'}, {'title': 'counts.1'}],\n",
       "            destroy: true,\n",
       "            responsive: true,\n",
       "            columnDefs: [\n",
       "              {\n",
       "                targets: \"_all\",\n",
       "                className: \"dt-left\"\n",
       "              },\n",
       "              {\n",
       "                \"targets\": 0,\n",
       "                \"width\": \"10px\",\n",
       "                \"title\": \"\"\n",
       "              }\n",
       "            ]\n",
       "              });\n",
       "            } else {\n",
       "              return;\n",
       "            }\n",
       "            dt.api()\n",
       "              .clear()\n",
       "              .rows.add([{1: 'The', 2: '3', 0: 0}, {1: 'Essence', 2: '1', 0: 1}, {1: 'of', 2: '18', 0: 2}, {1: 'Data', 2: '15', 0: 3}, {1: 'Engineering', 2: '3', 0: 4}, {1: 'Building', 2: '1', 0: 5}, {1: 'the', 2: '16', 0: 6}, {1: 'Backbone', 2: '1', 0: 7}, {1: 'Modern', 2: '1', 0: 8}, {1: 'Infrastructure', 2: '1', 0: 9}, {1: 'In', 2: '2', 0: 10}, {1: \"today's\", 2: '1', 0: 11}, {1: 'digital', 2: '1', 0: 12}, {1: 'age', 2: '1', 0: 13}, {1: 'data', 2: '38', 0: 14}, {1: 'has', 2: '1', 0: 15}, {1: 'emerged', 2: '1', 0: 16}, {1: 'as', 2: '7', 0: 17}, {1: 'a', 2: '9', 0: 18}, {1: 'crucial', 2: '3', 0: 19}, {1: 'asset', 2: '1', 0: 20}, {1: 'for', 2: '6', 0: 21}, {1: 'organizations', 2: '4', 0: 22}, {1: 'driving', 2: '2', 0: 23}, {1: 'decision', 2: '1', 0: 24}, {1: 'making', 2: '1', 0: 25}, {1: 'processes', 2: '1', 0: 26}, {1: 'and', 2: '35', 0: 27}, {1: 'enabling', 2: '1', 0: 28}, {1: 'innovation', 2: '2', 0: 29}, {1: 'across', 2: '1', 0: 30}, {1: 'industries', 2: '1', 0: 31}, {1: 'At', 2: '1', 0: 32}, {1: 'heart', 2: '1', 0: 33}, {1: 'this', 2: '2', 0: 34}, {1: 'transformation', 2: '1', 0: 35}, {1: 'is', 2: '12', 0: 36}, {1: 'engineering', 2: '9', 0: 37}, {1: 'field', 2: '1', 0: 38}, {1: 'dedicated', 2: '1', 0: 39}, {1: 'to', 2: '15', 0: 40}, {1: 'designing', 2: '1', 0: 41}, {1: 'constructing', 2: '1', 0: 42}, {1: 'maintaining', 2: '1', 0: 43}, {1: 'infrastructure', 2: '1', 0: 44}, {1: 'required', 2: '1', 0: 45}, {1: 'manage', 2: '1', 0: 46}, {1: 'process', 2: '3', 0: 47}, {1: 'large', 2: '3', 0: 48}, {1: 'volumes', 2: '1', 0: 49}, {1: 'efficiently', 2: '1', 0: 50}, {1: 'This', 2: '3', 0: 51}, {1: 'article', 2: '1', 0: 52}, {1: 'delves', 2: '1', 0: 53}, {1: 'into', 2: '3', 0: 54}, {1: 'core', 2: '1', 0: 55}, {1: 'aspects', 2: '1', 0: 56}, {1: 'highlighting', 2: '1', 0: 57}, {1: 'its', 2: '2', 0: 58}, {1: 'importance', 2: '1', 0: 59}, {1: 'key', 2: '1', 0: 60}, {1: 'components', 2: '1', 0: 61}, {1: 'skills', 2: '3', 0: 62}, {1: 'necessary', 2: '1', 0: 63}, {1: 'excel', 2: '2', 0: 64}, {1: 'in', 2: '7', 0: 65}, {1: 'domain', 2: '1', 0: 66}, {1: 'Importance', 2: '1', 0: 67}, {1: 'forms', 2: '1', 0: 68}, {1: 'backbone', 2: '1', 0: 69}, {1: 'any', 2: '1', 0: 70}, {1: 'driven', 2: '1', 0: 71}, {1: 'organization', 2: '2', 0: 72}, {1: 'It', 2: '1', 0: 73}, {1: 'ensures', 2: '2', 0: 74}, {1: 'that', 2: '6', 0: 75}, {1: 'collected', 2: '2', 0: 76}, {1: 'stored', 2: '2', 0: 77}, {1: 'processed', 2: '1', 0: 78}, {1: 'made', 2: '2', 0: 79}, {1: 'accessible', 2: '1', 0: 80}, {1: 'manner', 2: '1', 0: 81}, {1: 'both', 2: '1', 0: 82}, {1: 'reliable', 2: '1', 0: 83}, {1: 'scalable', 2: '1', 0: 84}, {1: 'Without', 2: '1', 0: 85}, {1: 'robust', 2: '2', 0: 86}, {1: 'practices', 2: '2', 0: 87}, {1: 'would', 2: '1', 0: 88}, {1: 'struggle', 2: '1', 0: 89}, {1: 'harness', 2: '1', 0: 90}, {1: 'full', 2: '2', 0: 91}, {1: 'potential', 2: '2', 0: 92}, {1: 'their', 2: '2', 0: 93}, {1: 'leading', 2: '1', 0: 94}, {1: 'missed', 2: '1', 0: 95}, {1: 'opportunities', 2: '1', 0: 96}, {1: 'inefficiencies', 2: '1', 0: 97}, {1: 'Effective', 2: '2', 0: 98}, {1: 'enables', 2: '1', 0: 99}, {1: 'businesses', 2: '1', 0: 100}, {1: 'derive', 2: '1', 0: 101}, {1: 'actionable', 2: '1', 0: 102}, {1: 'insights', 2: '1', 0: 103}, {1: 'improve', 2: '1', 0: 104}, {1: 'operational', 2: '1', 0: 105}, {1: 'efficiency', 2: '1', 0: 106}, {1: 'maintain', 2: '2', 0: 107}, {1: 'competitive', 2: '1', 0: 108}, {1: 'edge', 2: '1', 0: 109}, {1: 'Key', 2: '2', 0: 110}, {1: 'Components', 2: '1', 0: 111}, {1: '1', 2: '1', 0: 112}, {1: 'Collection', 2: '1', 0: 113}, {1: 'Ingestion', 2: '1', 0: 114}, {1: 'first', 2: '1', 0: 115}, {1: 'step', 2: '1', 0: 116}, {1: 'involves', 2: '3', 0: 117}, {1: 'gathering', 2: '1', 0: 118}, {1: 'from', 2: '2', 0: 119}, {1: 'various', 2: '2', 0: 120}, {1: 'sources', 2: '3', 0: 121}, {1: 'These', 2: '2', 0: 122}, {1: 'can', 2: '1', 0: 123}, {1: 'be', 2: '2', 0: 124}, {1: 'internal', 2: '1', 0: 125}, {1: 'systems', 2: '1', 0: 126}, {1: 'external', 2: '1', 0: 127}, {1: 'APIs', 2: '1', 0: 128}, {1: 'IoT', 2: '1', 0: 129}, {1: 'devices', 2: '1', 0: 130}, {1: 'or', 2: '2', 0: 131}, {1: 'third', 2: '1', 0: 132}, {1: 'party', 2: '1', 0: 133}, {1: 'services', 2: '2', 0: 134}, {1: 'engineers', 2: '6', 0: 135}, {1: 'use', 2: '2', 0: 136}, {1: 'tools', 2: '4', 0: 137}, {1: 'like', 2: '8', 0: 138}, {1: 'Apache', 2: '4', 0: 139}, {1: 'Kafka', 2: '2', 0: 140}, {1: 'AWS', 2: '2', 0: 141}, {1: 'Kinesis', 2: '1', 0: 142}, {1: 'Flume', 2: '1', 0: 143}, {1: 'streamline', 2: '1', 0: 144}, {1: 'ingestion', 2: '1', 0: 145}, {1: 'ensuring', 2: '3', 0: 146}, {1: 'flows', 2: '1', 0: 147}, {1: 'seamlessly', 2: '1', 0: 148}, {1: 'processing', 2: '6', 0: 149}, {1: 'pipeline', 2: '1', 0: 150}, {1: '2', 2: '1', 0: 151}, {1: 'Storage', 2: '1', 0: 152}, {1: 'Once', 2: '1', 0: 153}, {1: 'must', 2: '2', 0: 154}, {1: 'way', 2: '1', 0: 155}, {1: 'supports', 2: '1', 0: 156}, {1: 'efficient', 2: '3', 0: 157}, {1: 'retrieval', 2: '1', 0: 158}, {1: 'analysis', 2: '2', 0: 159}, {1: 'Depending', 2: '1', 0: 160}, {1: 'on', 2: '2', 0: 161}, {1: 'nature', 2: '1', 0: 162}, {1: 'might', 2: '1', 0: 163}, {1: 'relational', 2: '1', 0: 164}, {1: 'databases', 2: '2', 0: 165}, {1: 'PostgreSQL', 2: '1', 0: 166}, {1: 'NoSQL', 2: '1', 0: 167}, {1: 'MongoDB', 2: '1', 0: 168}, {1: 'warehouses', 2: '1', 0: 169}, {1: 'Amazon', 2: '1', 0: 170}, {1: 'Redshift', 2: '1', 0: 171}, {1: 'Google', 2: '2', 0: 172}, {1: 'BigQuery', 2: '1', 0: 173}, {1: 'choice', 2: '1', 0: 174}, {1: 'storage', 2: '2', 0: 175}, {1: 'solution', 2: '1', 0: 176}, {1: 'critical', 2: '1', 0: 177}, {1: 'depends', 2: '1', 0: 178}, {1: 'factors', 2: '1', 0: 179}, {1: 'such', 2: '3', 0: 180}, {1: 'volume', 2: '1', 0: 181}, {1: 'velocity', 2: '1', 0: 182}, {1: 'variety', 2: '1', 0: 183}, {1: 'specific', 2: '1', 0: 184}, {1: 'needs', 2: '2', 0: 185}, {1: '3', 2: '1', 0: 186}, {1: 'Processing', 2: '1', 0: 187}, {1: 'design', 2: '2', 0: 188}, {1: 'implement', 2: '2', 0: 189}, {1: 'pipelines', 2: '2', 0: 190}, {1: 'raw', 2: '1', 0: 191}, {1: 'usable', 2: '1', 0: 192}, {1: 'format', 2: '1', 0: 193}, {1: 'often', 2: '2', 0: 194}, {1: 'cleaning', 2: '1', 0: 195}, {1: 'transforming', 2: '1', 0: 196}, {1: 'aggregating', 2: '1', 0: 197}, {1: 'Tools', 2: '1', 0: 198}, {1: 'Spark', 2: '2', 0: 199}, {1: 'Hadoop', 2: '2', 0: 200}, {1: 'Beam', 2: '1', 0: 201}, {1: 'are', 2: '1', 0: 202}, {1: 'commonly', 2: '1', 0: 203}, {1: 'used', 2: '1', 0: 204}, {1: 'handle', 2: '1', 0: 205}, {1: 'scale', 2: '2', 0: 206}, {1: 'tasks', 2: '2', 0: 207}, {1: 'allow', 2: '1', 0: 208}, {1: 'batch', 2: '1', 0: 209}, {1: 'well', 2: '1', 0: 210}, {1: 'real', 2: '1', 0: 211}, {1: 'time', 2: '1', 0: 212}, {1: 'stream', 2: '1', 0: 213}, {1: 'catering', 2: '1', 0: 214}, {1: 'diverse', 2: '1', 0: 215}, {1: 'analytical', 2: '3', 0: 216}, {1: '4', 2: '1', 0: 217}, {1: 'Integration', 2: '1', 0: 218}, {1: 'Ensuring', 2: '1', 0: 219}, {1: 'integrated', 2: '1', 0: 220}, {1: 'consistent', 2: '1', 0: 221}, {1: 'aspect', 2: '1', 0: 222}, {1: 'working', 2: '1', 0: 223}, {1: 'with', 2: '4', 0: 224}, {1: 'ETL', 2: '1', 0: 225}, {1: 'Extract', 2: '1', 0: 226}, {1: 'Transform', 2: '1', 0: 227}, {1: 'Load', 2: '1', 0: 228}, {1: 'Talend', 2: '1', 0: 229}, {1: 'Informatica', 2: '1', 0: 230}, {1: 'NiFi', 2: '1', 0: 231}, {1: 'integration', 2: '1', 0: 232}, {1: 'remains', 2: '1', 0: 233}, {1: 'accurate', 2: '1', 0: 234}, {1: 'up', 2: '1', 0: 235}, {1: 'date', 2: '1', 0: 236}, {1: 'ready', 2: '1', 0: 237}, {1: '5', 2: '1', 0: 238}, {1: 'Security', 2: '1', 0: 239}, {1: 'Governance', 2: '1', 0: 240}, {1: 'As', 2: '1', 0: 241}, {1: 'becomes', 2: '1', 0: 242}, {1: 'increasingly', 2: '3', 0: 243}, {1: 'valuable', 2: '1', 0: 244}, {1: 'security', 2: '3', 0: 245}, {1: 'compliance', 2: '2', 0: 246}, {1: 'regulations', 2: '1', 0: 247}, {1: 'paramount', 2: '1', 0: 248}, {1: 'measures', 2: '1', 0: 249}, {1: 'including', 2: '1', 0: 250}, {1: 'encryption', 2: '1', 0: 251}, {1: 'access', 2: '1', 0: 252}, {1: 'controls', 2: '1', 0: 253}, {1: 'auditing', 2: '1', 0: 254}, {1: 'mechanisms', 2: '1', 0: 255}, {1: 'They', 2: '1', 0: 256}, {1: 'also', 2: '1', 0: 257}, {1: 'establish', 2: '1', 0: 258}, {1: 'governance', 2: '1', 0: 259}, {1: 'quality', 2: '1', 0: 260}, {1: 'lineage', 2: '1', 0: 261}, {1: 'standards', 2: '1', 0: 262}, {1: 'GDPR', 2: '1', 0: 263}, {1: 'CCPA', 2: '1', 0: 264}, {1: 'Essential', 2: '1', 0: 265}, {1: 'Skills', 2: '1', 0: 266}, {1: 'Engineers', 2: '1', 0: 267}, {1: 'To', 2: '1', 0: 268}, {1: 'professionals', 2: '1', 0: 269}, {1: 'possess', 2: '1', 0: 270}, {1: 'blend', 2: '1', 0: 271}, {1: 'technical', 2: '1', 0: 272}, {1: 'competencies', 2: '1', 0: 273}, {1: 'include', 2: '1', 0: 274}, {1: 'Programming', 2: '1', 0: 275}, {1: 'Proficiency', 2: '1', 0: 276}, {1: 'languages', 2: '1', 0: 277}, {1: 'Python', 2: '1', 0: 278}, {1: 'Java', 2: '1', 0: 279}, {1: 'SQL', 2: '1', 0: 280}, {1: 'essential', 2: '1', 0: 281}, {1: 'building', 2: '1', 0: 282}, {1: 'managing', 2: '1', 0: 283}, {1: 'Database', 2: '1', 0: 284}, {1: 'Management', 2: '1', 0: 285}, {1: 'Understanding', 2: '1', 0: 286}, {1: 'different', 2: '1', 0: 287}, {1: 'database', 2: '1', 0: 288}, {1: 'architectures', 2: '1', 0: 289}, {1: 'query', 2: '1', 0: 290}, {1: 'optimization', 2: '1', 0: 291}, {1: 'techniques', 2: '1', 0: 292}, {1: 'Big', 2: '1', 0: 293}, {1: 'Technologies', 2: '1', 0: 294}, {1: 'Familiarity', 2: '1', 0: 295}, {1: 'vital', 2: '1', 0: 296}, {1: 'handling', 2: '1', 0: 297}, {1: 'Cloud', 2: '2', 0: 298}, {1: 'Platforms', 2: '1', 0: 299}, {1: 'Knowledge', 2: '1', 0: 300}, {1: 'cloud', 2: '2', 0: 301}, {1: 'Azure', 2: '1', 0: 302}, {1: 'important', 2: '1', 0: 303}, {1: 'migrate', 2: '1', 0: 304}, {1: 'Problem', 2: '1', 0: 305}, {1: 'Solving', 2: '1', 0: 306}, {1: 'Strong', 2: '1', 0: 307}, {1: 'problem', 2: '1', 0: 308}, {1: 'solving', 2: '1', 0: 309}, {1: 'enable', 2: '1', 0: 310}, {1: 'solutions', 2: '1', 0: 311}, {1: 'troubleshoot', 2: '1', 0: 312}, {1: 'issues', 2: '1', 0: 313}, {1: 'effectively', 2: '1', 0: 314}, {1: 'conclusion', 2: '1', 0: 315}, {1: 'foundational', 2: '1', 0: 316}, {1: 'element', 2: '1', 0: 317}, {1: 'modern', 2: '1', 0: 318}, {1: 'ecosystems', 2: '1', 0: 319}, {1: 'By', 2: '1', 0: 320}, {1: 'collection', 2: '1', 0: 321}, {1: 'empower', 2: '1', 0: 322}, {1: 'unlock', 2: '1', 0: 323}, {1: 'growth', 2: '1', 0: 324}, {1: 'an', 2: '1', 0: 325}, {1: 'centric', 2: '1', 0: 326}, {1: 'world', 2: '1', 0: 327}])\n",
       "              .draw('full-hold');\n",
       "              });\n",
       "            }\n",
       "            document.head.appendChild(datatableScript);\n",
       "          };\n",
       "          document.head.appendChild(jqueryScript);\n",
       "        } else {\n",
       "          window.interactive_beam_jquery(document).ready(function($){\n",
       "            \n",
       "            var dt;\n",
       "            if ($.fn.dataTable.isDataTable(\"#table_df_ea0d550d447d8732089a78da4fd7fa14\")) {\n",
       "              dt = $(\"#table_df_ea0d550d447d8732089a78da4fd7fa14\").dataTable();\n",
       "            } else if ($(\"#table_df_ea0d550d447d8732089a78da4fd7fa14_wrapper\").length == 0) {\n",
       "              dt = $(\"#table_df_ea0d550d447d8732089a78da4fd7fa14\").dataTable({\n",
       "                \n",
       "            bAutoWidth: false,\n",
       "            columns: [{'title': ''}, {'title': 'counts.0'}, {'title': 'counts.1'}],\n",
       "            destroy: true,\n",
       "            responsive: true,\n",
       "            columnDefs: [\n",
       "              {\n",
       "                targets: \"_all\",\n",
       "                className: \"dt-left\"\n",
       "              },\n",
       "              {\n",
       "                \"targets\": 0,\n",
       "                \"width\": \"10px\",\n",
       "                \"title\": \"\"\n",
       "              }\n",
       "            ]\n",
       "              });\n",
       "            } else {\n",
       "              return;\n",
       "            }\n",
       "            dt.api()\n",
       "              .clear()\n",
       "              .rows.add([{1: 'The', 2: '3', 0: 0}, {1: 'Essence', 2: '1', 0: 1}, {1: 'of', 2: '18', 0: 2}, {1: 'Data', 2: '15', 0: 3}, {1: 'Engineering', 2: '3', 0: 4}, {1: 'Building', 2: '1', 0: 5}, {1: 'the', 2: '16', 0: 6}, {1: 'Backbone', 2: '1', 0: 7}, {1: 'Modern', 2: '1', 0: 8}, {1: 'Infrastructure', 2: '1', 0: 9}, {1: 'In', 2: '2', 0: 10}, {1: \"today's\", 2: '1', 0: 11}, {1: 'digital', 2: '1', 0: 12}, {1: 'age', 2: '1', 0: 13}, {1: 'data', 2: '38', 0: 14}, {1: 'has', 2: '1', 0: 15}, {1: 'emerged', 2: '1', 0: 16}, {1: 'as', 2: '7', 0: 17}, {1: 'a', 2: '9', 0: 18}, {1: 'crucial', 2: '3', 0: 19}, {1: 'asset', 2: '1', 0: 20}, {1: 'for', 2: '6', 0: 21}, {1: 'organizations', 2: '4', 0: 22}, {1: 'driving', 2: '2', 0: 23}, {1: 'decision', 2: '1', 0: 24}, {1: 'making', 2: '1', 0: 25}, {1: 'processes', 2: '1', 0: 26}, {1: 'and', 2: '35', 0: 27}, {1: 'enabling', 2: '1', 0: 28}, {1: 'innovation', 2: '2', 0: 29}, {1: 'across', 2: '1', 0: 30}, {1: 'industries', 2: '1', 0: 31}, {1: 'At', 2: '1', 0: 32}, {1: 'heart', 2: '1', 0: 33}, {1: 'this', 2: '2', 0: 34}, {1: 'transformation', 2: '1', 0: 35}, {1: 'is', 2: '12', 0: 36}, {1: 'engineering', 2: '9', 0: 37}, {1: 'field', 2: '1', 0: 38}, {1: 'dedicated', 2: '1', 0: 39}, {1: 'to', 2: '15', 0: 40}, {1: 'designing', 2: '1', 0: 41}, {1: 'constructing', 2: '1', 0: 42}, {1: 'maintaining', 2: '1', 0: 43}, {1: 'infrastructure', 2: '1', 0: 44}, {1: 'required', 2: '1', 0: 45}, {1: 'manage', 2: '1', 0: 46}, {1: 'process', 2: '3', 0: 47}, {1: 'large', 2: '3', 0: 48}, {1: 'volumes', 2: '1', 0: 49}, {1: 'efficiently', 2: '1', 0: 50}, {1: 'This', 2: '3', 0: 51}, {1: 'article', 2: '1', 0: 52}, {1: 'delves', 2: '1', 0: 53}, {1: 'into', 2: '3', 0: 54}, {1: 'core', 2: '1', 0: 55}, {1: 'aspects', 2: '1', 0: 56}, {1: 'highlighting', 2: '1', 0: 57}, {1: 'its', 2: '2', 0: 58}, {1: 'importance', 2: '1', 0: 59}, {1: 'key', 2: '1', 0: 60}, {1: 'components', 2: '1', 0: 61}, {1: 'skills', 2: '3', 0: 62}, {1: 'necessary', 2: '1', 0: 63}, {1: 'excel', 2: '2', 0: 64}, {1: 'in', 2: '7', 0: 65}, {1: 'domain', 2: '1', 0: 66}, {1: 'Importance', 2: '1', 0: 67}, {1: 'forms', 2: '1', 0: 68}, {1: 'backbone', 2: '1', 0: 69}, {1: 'any', 2: '1', 0: 70}, {1: 'driven', 2: '1', 0: 71}, {1: 'organization', 2: '2', 0: 72}, {1: 'It', 2: '1', 0: 73}, {1: 'ensures', 2: '2', 0: 74}, {1: 'that', 2: '6', 0: 75}, {1: 'collected', 2: '2', 0: 76}, {1: 'stored', 2: '2', 0: 77}, {1: 'processed', 2: '1', 0: 78}, {1: 'made', 2: '2', 0: 79}, {1: 'accessible', 2: '1', 0: 80}, {1: 'manner', 2: '1', 0: 81}, {1: 'both', 2: '1', 0: 82}, {1: 'reliable', 2: '1', 0: 83}, {1: 'scalable', 2: '1', 0: 84}, {1: 'Without', 2: '1', 0: 85}, {1: 'robust', 2: '2', 0: 86}, {1: 'practices', 2: '2', 0: 87}, {1: 'would', 2: '1', 0: 88}, {1: 'struggle', 2: '1', 0: 89}, {1: 'harness', 2: '1', 0: 90}, {1: 'full', 2: '2', 0: 91}, {1: 'potential', 2: '2', 0: 92}, {1: 'their', 2: '2', 0: 93}, {1: 'leading', 2: '1', 0: 94}, {1: 'missed', 2: '1', 0: 95}, {1: 'opportunities', 2: '1', 0: 96}, {1: 'inefficiencies', 2: '1', 0: 97}, {1: 'Effective', 2: '2', 0: 98}, {1: 'enables', 2: '1', 0: 99}, {1: 'businesses', 2: '1', 0: 100}, {1: 'derive', 2: '1', 0: 101}, {1: 'actionable', 2: '1', 0: 102}, {1: 'insights', 2: '1', 0: 103}, {1: 'improve', 2: '1', 0: 104}, {1: 'operational', 2: '1', 0: 105}, {1: 'efficiency', 2: '1', 0: 106}, {1: 'maintain', 2: '2', 0: 107}, {1: 'competitive', 2: '1', 0: 108}, {1: 'edge', 2: '1', 0: 109}, {1: 'Key', 2: '2', 0: 110}, {1: 'Components', 2: '1', 0: 111}, {1: '1', 2: '1', 0: 112}, {1: 'Collection', 2: '1', 0: 113}, {1: 'Ingestion', 2: '1', 0: 114}, {1: 'first', 2: '1', 0: 115}, {1: 'step', 2: '1', 0: 116}, {1: 'involves', 2: '3', 0: 117}, {1: 'gathering', 2: '1', 0: 118}, {1: 'from', 2: '2', 0: 119}, {1: 'various', 2: '2', 0: 120}, {1: 'sources', 2: '3', 0: 121}, {1: 'These', 2: '2', 0: 122}, {1: 'can', 2: '1', 0: 123}, {1: 'be', 2: '2', 0: 124}, {1: 'internal', 2: '1', 0: 125}, {1: 'systems', 2: '1', 0: 126}, {1: 'external', 2: '1', 0: 127}, {1: 'APIs', 2: '1', 0: 128}, {1: 'IoT', 2: '1', 0: 129}, {1: 'devices', 2: '1', 0: 130}, {1: 'or', 2: '2', 0: 131}, {1: 'third', 2: '1', 0: 132}, {1: 'party', 2: '1', 0: 133}, {1: 'services', 2: '2', 0: 134}, {1: 'engineers', 2: '6', 0: 135}, {1: 'use', 2: '2', 0: 136}, {1: 'tools', 2: '4', 0: 137}, {1: 'like', 2: '8', 0: 138}, {1: 'Apache', 2: '4', 0: 139}, {1: 'Kafka', 2: '2', 0: 140}, {1: 'AWS', 2: '2', 0: 141}, {1: 'Kinesis', 2: '1', 0: 142}, {1: 'Flume', 2: '1', 0: 143}, {1: 'streamline', 2: '1', 0: 144}, {1: 'ingestion', 2: '1', 0: 145}, {1: 'ensuring', 2: '3', 0: 146}, {1: 'flows', 2: '1', 0: 147}, {1: 'seamlessly', 2: '1', 0: 148}, {1: 'processing', 2: '6', 0: 149}, {1: 'pipeline', 2: '1', 0: 150}, {1: '2', 2: '1', 0: 151}, {1: 'Storage', 2: '1', 0: 152}, {1: 'Once', 2: '1', 0: 153}, {1: 'must', 2: '2', 0: 154}, {1: 'way', 2: '1', 0: 155}, {1: 'supports', 2: '1', 0: 156}, {1: 'efficient', 2: '3', 0: 157}, {1: 'retrieval', 2: '1', 0: 158}, {1: 'analysis', 2: '2', 0: 159}, {1: 'Depending', 2: '1', 0: 160}, {1: 'on', 2: '2', 0: 161}, {1: 'nature', 2: '1', 0: 162}, {1: 'might', 2: '1', 0: 163}, {1: 'relational', 2: '1', 0: 164}, {1: 'databases', 2: '2', 0: 165}, {1: 'PostgreSQL', 2: '1', 0: 166}, {1: 'NoSQL', 2: '1', 0: 167}, {1: 'MongoDB', 2: '1', 0: 168}, {1: 'warehouses', 2: '1', 0: 169}, {1: 'Amazon', 2: '1', 0: 170}, {1: 'Redshift', 2: '1', 0: 171}, {1: 'Google', 2: '2', 0: 172}, {1: 'BigQuery', 2: '1', 0: 173}, {1: 'choice', 2: '1', 0: 174}, {1: 'storage', 2: '2', 0: 175}, {1: 'solution', 2: '1', 0: 176}, {1: 'critical', 2: '1', 0: 177}, {1: 'depends', 2: '1', 0: 178}, {1: 'factors', 2: '1', 0: 179}, {1: 'such', 2: '3', 0: 180}, {1: 'volume', 2: '1', 0: 181}, {1: 'velocity', 2: '1', 0: 182}, {1: 'variety', 2: '1', 0: 183}, {1: 'specific', 2: '1', 0: 184}, {1: 'needs', 2: '2', 0: 185}, {1: '3', 2: '1', 0: 186}, {1: 'Processing', 2: '1', 0: 187}, {1: 'design', 2: '2', 0: 188}, {1: 'implement', 2: '2', 0: 189}, {1: 'pipelines', 2: '2', 0: 190}, {1: 'raw', 2: '1', 0: 191}, {1: 'usable', 2: '1', 0: 192}, {1: 'format', 2: '1', 0: 193}, {1: 'often', 2: '2', 0: 194}, {1: 'cleaning', 2: '1', 0: 195}, {1: 'transforming', 2: '1', 0: 196}, {1: 'aggregating', 2: '1', 0: 197}, {1: 'Tools', 2: '1', 0: 198}, {1: 'Spark', 2: '2', 0: 199}, {1: 'Hadoop', 2: '2', 0: 200}, {1: 'Beam', 2: '1', 0: 201}, {1: 'are', 2: '1', 0: 202}, {1: 'commonly', 2: '1', 0: 203}, {1: 'used', 2: '1', 0: 204}, {1: 'handle', 2: '1', 0: 205}, {1: 'scale', 2: '2', 0: 206}, {1: 'tasks', 2: '2', 0: 207}, {1: 'allow', 2: '1', 0: 208}, {1: 'batch', 2: '1', 0: 209}, {1: 'well', 2: '1', 0: 210}, {1: 'real', 2: '1', 0: 211}, {1: 'time', 2: '1', 0: 212}, {1: 'stream', 2: '1', 0: 213}, {1: 'catering', 2: '1', 0: 214}, {1: 'diverse', 2: '1', 0: 215}, {1: 'analytical', 2: '3', 0: 216}, {1: '4', 2: '1', 0: 217}, {1: 'Integration', 2: '1', 0: 218}, {1: 'Ensuring', 2: '1', 0: 219}, {1: 'integrated', 2: '1', 0: 220}, {1: 'consistent', 2: '1', 0: 221}, {1: 'aspect', 2: '1', 0: 222}, {1: 'working', 2: '1', 0: 223}, {1: 'with', 2: '4', 0: 224}, {1: 'ETL', 2: '1', 0: 225}, {1: 'Extract', 2: '1', 0: 226}, {1: 'Transform', 2: '1', 0: 227}, {1: 'Load', 2: '1', 0: 228}, {1: 'Talend', 2: '1', 0: 229}, {1: 'Informatica', 2: '1', 0: 230}, {1: 'NiFi', 2: '1', 0: 231}, {1: 'integration', 2: '1', 0: 232}, {1: 'remains', 2: '1', 0: 233}, {1: 'accurate', 2: '1', 0: 234}, {1: 'up', 2: '1', 0: 235}, {1: 'date', 2: '1', 0: 236}, {1: 'ready', 2: '1', 0: 237}, {1: '5', 2: '1', 0: 238}, {1: 'Security', 2: '1', 0: 239}, {1: 'Governance', 2: '1', 0: 240}, {1: 'As', 2: '1', 0: 241}, {1: 'becomes', 2: '1', 0: 242}, {1: 'increasingly', 2: '3', 0: 243}, {1: 'valuable', 2: '1', 0: 244}, {1: 'security', 2: '3', 0: 245}, {1: 'compliance', 2: '2', 0: 246}, {1: 'regulations', 2: '1', 0: 247}, {1: 'paramount', 2: '1', 0: 248}, {1: 'measures', 2: '1', 0: 249}, {1: 'including', 2: '1', 0: 250}, {1: 'encryption', 2: '1', 0: 251}, {1: 'access', 2: '1', 0: 252}, {1: 'controls', 2: '1', 0: 253}, {1: 'auditing', 2: '1', 0: 254}, {1: 'mechanisms', 2: '1', 0: 255}, {1: 'They', 2: '1', 0: 256}, {1: 'also', 2: '1', 0: 257}, {1: 'establish', 2: '1', 0: 258}, {1: 'governance', 2: '1', 0: 259}, {1: 'quality', 2: '1', 0: 260}, {1: 'lineage', 2: '1', 0: 261}, {1: 'standards', 2: '1', 0: 262}, {1: 'GDPR', 2: '1', 0: 263}, {1: 'CCPA', 2: '1', 0: 264}, {1: 'Essential', 2: '1', 0: 265}, {1: 'Skills', 2: '1', 0: 266}, {1: 'Engineers', 2: '1', 0: 267}, {1: 'To', 2: '1', 0: 268}, {1: 'professionals', 2: '1', 0: 269}, {1: 'possess', 2: '1', 0: 270}, {1: 'blend', 2: '1', 0: 271}, {1: 'technical', 2: '1', 0: 272}, {1: 'competencies', 2: '1', 0: 273}, {1: 'include', 2: '1', 0: 274}, {1: 'Programming', 2: '1', 0: 275}, {1: 'Proficiency', 2: '1', 0: 276}, {1: 'languages', 2: '1', 0: 277}, {1: 'Python', 2: '1', 0: 278}, {1: 'Java', 2: '1', 0: 279}, {1: 'SQL', 2: '1', 0: 280}, {1: 'essential', 2: '1', 0: 281}, {1: 'building', 2: '1', 0: 282}, {1: 'managing', 2: '1', 0: 283}, {1: 'Database', 2: '1', 0: 284}, {1: 'Management', 2: '1', 0: 285}, {1: 'Understanding', 2: '1', 0: 286}, {1: 'different', 2: '1', 0: 287}, {1: 'database', 2: '1', 0: 288}, {1: 'architectures', 2: '1', 0: 289}, {1: 'query', 2: '1', 0: 290}, {1: 'optimization', 2: '1', 0: 291}, {1: 'techniques', 2: '1', 0: 292}, {1: 'Big', 2: '1', 0: 293}, {1: 'Technologies', 2: '1', 0: 294}, {1: 'Familiarity', 2: '1', 0: 295}, {1: 'vital', 2: '1', 0: 296}, {1: 'handling', 2: '1', 0: 297}, {1: 'Cloud', 2: '2', 0: 298}, {1: 'Platforms', 2: '1', 0: 299}, {1: 'Knowledge', 2: '1', 0: 300}, {1: 'cloud', 2: '2', 0: 301}, {1: 'Azure', 2: '1', 0: 302}, {1: 'important', 2: '1', 0: 303}, {1: 'migrate', 2: '1', 0: 304}, {1: 'Problem', 2: '1', 0: 305}, {1: 'Solving', 2: '1', 0: 306}, {1: 'Strong', 2: '1', 0: 307}, {1: 'problem', 2: '1', 0: 308}, {1: 'solving', 2: '1', 0: 309}, {1: 'enable', 2: '1', 0: 310}, {1: 'solutions', 2: '1', 0: 311}, {1: 'troubleshoot', 2: '1', 0: 312}, {1: 'issues', 2: '1', 0: 313}, {1: 'effectively', 2: '1', 0: 314}, {1: 'conclusion', 2: '1', 0: 315}, {1: 'foundational', 2: '1', 0: 316}, {1: 'element', 2: '1', 0: 317}, {1: 'modern', 2: '1', 0: 318}, {1: 'ecosystems', 2: '1', 0: 319}, {1: 'By', 2: '1', 0: 320}, {1: 'collection', 2: '1', 0: 321}, {1: 'empower', 2: '1', 0: 322}, {1: 'unlock', 2: '1', 0: 323}, {1: 'growth', 2: '1', 0: 324}, {1: 'an', 2: '1', 0: 325}, {1: 'centric', 2: '1', 0: 326}, {1: 'world', 2: '1', 0: 327}])\n",
       "              .draw('full-hold');\n",
       "          });\n",
       "        }\n",
       "            </script>"
      ],
      "text/plain": [
       "<IPython.core.display.HTML object>"
      ]
     },
     "metadata": {},
     "output_type": "display_data"
    },
    {
     "data": {
      "application/javascript": [
       "\n",
       "        if (typeof window.interactive_beam_jquery == 'undefined') {\n",
       "          var jqueryScript = document.createElement('script');\n",
       "          jqueryScript.src = 'https://code.jquery.com/jquery-3.4.1.slim.min.js';\n",
       "          jqueryScript.type = 'text/javascript';\n",
       "          jqueryScript.onload = function() {\n",
       "            var datatableScript = document.createElement('script');\n",
       "            datatableScript.src = 'https://cdn.datatables.net/1.10.20/js/jquery.dataTables.min.js';\n",
       "            datatableScript.type = 'text/javascript';\n",
       "            datatableScript.onload = function() {\n",
       "              window.interactive_beam_jquery = jQuery.noConflict(true);\n",
       "              window.interactive_beam_jquery(document).ready(function($){\n",
       "                \n",
       "            $(\"#progress_indicator_e62c3cdd9f4e3ce57089dca7f897a304\").remove();\n",
       "              });\n",
       "            }\n",
       "            document.head.appendChild(datatableScript);\n",
       "          };\n",
       "          document.head.appendChild(jqueryScript);\n",
       "        } else {\n",
       "          window.interactive_beam_jquery(document).ready(function($){\n",
       "            \n",
       "            $(\"#progress_indicator_e62c3cdd9f4e3ce57089dca7f897a304\").remove();\n",
       "          });\n",
       "        }"
      ]
     },
     "metadata": {},
     "output_type": "display_data"
    }
   ],
   "source": [
    "ib.show(counts)"
   ]
  },
  {
   "cell_type": "code",
   "execution_count": 6,
   "id": "d6f6655f-2cfe-49c7-977f-7d90dd5d4f9a",
   "metadata": {
    "tags": []
   },
   "outputs": [],
   "source": [
    "# Setting up the Apache Beam pipeline options.\n",
    "# Note that use_runner_v2 experiment is needed to run pipeline when\n",
    "# using DataflowRunner with Beam version 2.50.0 - https://github.com/apache/beam/issues/28399\n",
    "options = pipeline_options.PipelineOptions(flags={'--experiments=use_runner_v2'} if beam.version.__version__ == '2.50.0' else {})\n",
    "\n",
    "# Sets the project to the default project in your current Google Cloud environment.\n",
    "_, options.view_as(GoogleCloudOptions).project = google.auth.default()\n",
    "\n",
    "# Sets the Google Cloud Region in which Cloud Dataflow runs.\n",
    "options.view_as(GoogleCloudOptions).region = 'us-central1'\n",
    "\n"
   ]
  },
  {
   "cell_type": "code",
   "execution_count": 7,
   "id": "488d4565-6aaa-410c-a923-113d002500c1",
   "metadata": {
    "tags": []
   },
   "outputs": [],
   "source": [
    "# IMPORTANT! Adjust the following to choose a Cloud Storage location.\n",
    "dataflow_gcs_location = 'gs://sandeep-apache/dataflow'\n",
    "\n",
    "\n",
    "# Dataflow Staging Location. This location is used to stage the Dataflow Pipeline and SDK binary.\n",
    "options.view_as(GoogleCloudOptions).staging_location = '%s/staging' % dataflow_gcs_location\n",
    "\n",
    "# Dataflow Temp Location. This location is used to store temporary files or intermediate results before finally outputting to the sink.\n",
    "options.view_as(GoogleCloudOptions).temp_location = '%s/temp' % dataflow_gcs_location"
   ]
  },
  {
   "cell_type": "code",
   "execution_count": 8,
   "id": "53df2649-98b8-4776-91c2-7af10ffd7767",
   "metadata": {
    "tags": []
   },
   "outputs": [
    {
     "data": {
      "text/plain": [
       "<PCollection[[8]: Write lower counts to Cloud Storage/Write/WriteImpl/FinalizeWrite.None] at 0x7f4bf466aec0>"
      ]
     },
     "execution_count": 8,
     "metadata": {},
     "output_type": "execute_result"
    }
   ],
   "source": [
    "# The directory to store the output files of the job.\n",
    "output_gcs_location = '%s/output' % dataflow_gcs_location\n",
    "\n",
    "# Specifying the Cloud Storage location to write `counts` to,\n",
    "# based on the `output_gcs_location` variable set earlier.\n",
    "(counts | 'Write counts to Cloud Storage' \n",
    " >> beam.io.WriteToText(output_gcs_location + '/wordcount-output.txt'))\n",
    "\n",
    "# Specifying the Cloud Storage location to write `lower_counts` to,\n",
    "# based on the `output_gcs_location` variable set earlier.\n",
    "(lower_counts | 'Write lower counts to Cloud Storage' \n",
    " >> beam.io.WriteToText(output_gcs_location + '/wordcount-lower-output.txt'))"
   ]
  },
  {
   "cell_type": "code",
   "execution_count": 9,
   "id": "ed446d95-05c2-4700-a948-cf264f01360b",
   "metadata": {
    "tags": []
   },
   "outputs": [
    {
     "data": {
      "text/html": [
       "\n",
       "            <link rel=\"stylesheet\" href=\"https://stackpath.bootstrapcdn.com/bootstrap/4.4.1/css/bootstrap.min.css\" integrity=\"sha384-Vkoo8x4CGsO3+Hhxv8T/Q5PaXtkKtu6ug5TOeNV6gBiFeWPGFN9MuhOf23Q9Ifjh\" crossorigin=\"anonymous\">\n",
       "            <div id=\"progress_indicator_eb3fe769d7e7893417a843f104f83ea1\">\n",
       "              <div class=\"spinner-border text-info\" role=\"status\"></div>\n",
       "              <span class=\"text-info\">Processing... show_graph</span>\n",
       "            </div>\n",
       "            "
      ],
      "text/plain": [
       "<IPython.core.display.HTML object>"
      ]
     },
     "metadata": {},
     "output_type": "display_data"
    },
    {
     "name": "stdout",
     "output_type": "stream",
     "text": [
      "/usr/bin/dot\n"
     ]
    },
    {
     "data": {
      "text/html": [
       "<?xml version=\"1.0\" encoding=\"UTF-8\" standalone=\"no\"?>\n",
       "<!DOCTYPE svg PUBLIC \"-//W3C//DTD SVG 1.1//EN\"\n",
       " \"http://www.w3.org/Graphics/SVG/1.1/DTD/svg11.dtd\">\n",
       "<!-- Generated by graphviz version 2.43.0 (0)\n",
       " -->\n",
       "<!-- Title: G Pages: 1 -->\n",
       "<svg width=\"505pt\" height=\"750pt\"\n",
       " viewBox=\"0.00 0.00 505.00 749.77\" xmlns=\"http://www.w3.org/2000/svg\" xmlns:xlink=\"http://www.w3.org/1999/xlink\">\n",
       "<g id=\"graph0\" class=\"graph\" transform=\"scale(1 1) rotate(0) translate(4 745.77)\">\n",
       "<title>G</title>\n",
       "<polygon fill=\"white\" stroke=\"transparent\" points=\"-4,4 -4,-745.77 501,-745.77 501,4 -4,4\"/>\n",
       "<!-- [4]: read -->\n",
       "<g id=\"node1\" class=\"node\">\n",
       "<title>[4]: read</title>\n",
       "<polygon fill=\"none\" stroke=\"blue\" points=\"303,-741.77 226,-741.77 226,-705.77 303,-705.77 303,-741.77\"/>\n",
       "<text text-anchor=\"middle\" x=\"264.5\" y=\"-720.07\" font-family=\"Times,serif\" font-size=\"14.00\" fill=\"blue\">[4]: read</text>\n",
       "</g>\n",
       "<!-- words -->\n",
       "<g id=\"node2\" class=\"node\">\n",
       "<title>words</title>\n",
       "<ellipse fill=\"none\" stroke=\"blue\" cx=\"264.5\" cy=\"-630.77\" rx=\"38.99\" ry=\"38.99\"/>\n",
       "<text text-anchor=\"middle\" x=\"264.5\" y=\"-627.07\" font-family=\"Times,serif\" font-size=\"14.00\" fill=\"blue\">words</text>\n",
       "</g>\n",
       "<!-- [4]: read&#45;&gt;words -->\n",
       "<g id=\"edge1\" class=\"edge\">\n",
       "<title>[4]: read&#45;&gt;words</title>\n",
       "<path fill=\"none\" stroke=\"black\" d=\"M264.5,-705.65C264.5,-698.24 264.5,-689.16 264.5,-679.93\"/>\n",
       "<polygon fill=\"black\" stroke=\"black\" points=\"268,-679.93 264.5,-669.93 261,-679.93 268,-679.93\"/>\n",
       "</g>\n",
       "<!-- [4]: count -->\n",
       "<g id=\"node3\" class=\"node\">\n",
       "<title>[4]: count</title>\n",
       "<polygon fill=\"none\" stroke=\"blue\" points=\"256,-555.78 171,-555.78 171,-519.78 256,-519.78 256,-555.78\"/>\n",
       "<text text-anchor=\"middle\" x=\"213.5\" y=\"-534.08\" font-family=\"Times,serif\" font-size=\"14.00\" fill=\"blue\">[4]: count</text>\n",
       "</g>\n",
       "<!-- words&#45;&gt;[4]: count -->\n",
       "<g id=\"edge2\" class=\"edge\">\n",
       "<title>words&#45;&gt;[4]: count</title>\n",
       "<path fill=\"none\" stroke=\"black\" d=\"M245.8,-596.41C239.94,-585.95 233.56,-574.57 228.04,-564.71\"/>\n",
       "<polygon fill=\"black\" stroke=\"black\" points=\"230.98,-562.81 223.04,-555.8 224.88,-566.23 230.98,-562.81\"/>\n",
       "</g>\n",
       "<!-- [4]: lower -->\n",
       "<g id=\"node5\" class=\"node\">\n",
       "<title>[4]: lower</title>\n",
       "<polygon fill=\"none\" stroke=\"blue\" points=\"373,-555.78 288,-555.78 288,-519.78 373,-519.78 373,-555.78\"/>\n",
       "<text text-anchor=\"middle\" x=\"330.5\" y=\"-534.08\" font-family=\"Times,serif\" font-size=\"14.00\" fill=\"blue\">[4]: lower</text>\n",
       "</g>\n",
       "<!-- words&#45;&gt;[4]: lower -->\n",
       "<g id=\"edge3\" class=\"edge\">\n",
       "<title>words&#45;&gt;[4]: lower</title>\n",
       "<path fill=\"none\" stroke=\"black\" d=\"M287.03,-598.71C295.22,-587.42 304.37,-574.8 312.16,-564.06\"/>\n",
       "<polygon fill=\"black\" stroke=\"black\" points=\"315.03,-566.07 318.06,-555.92 309.36,-561.96 315.03,-566.07\"/>\n",
       "</g>\n",
       "<!-- counts -->\n",
       "<g id=\"node4\" class=\"node\">\n",
       "<title>counts</title>\n",
       "<ellipse fill=\"none\" stroke=\"blue\" cx=\"185.5\" cy=\"-442.18\" rx=\"41.69\" ry=\"41.69\"/>\n",
       "<text text-anchor=\"middle\" x=\"185.5\" y=\"-438.48\" font-family=\"Times,serif\" font-size=\"14.00\" fill=\"blue\">counts</text>\n",
       "</g>\n",
       "<!-- [4]: count&#45;&gt;counts -->\n",
       "<g id=\"edge4\" class=\"edge\">\n",
       "<title>[4]: count&#45;&gt;counts</title>\n",
       "<path fill=\"none\" stroke=\"black\" d=\"M208.36,-519.61C206.02,-511.77 203.11,-502.05 200.16,-492.2\"/>\n",
       "<polygon fill=\"black\" stroke=\"black\" points=\"203.44,-490.95 197.22,-482.37 196.74,-492.95 203.44,-490.95\"/>\n",
       "</g>\n",
       "<!-- [8]: Write counts to Cloud Storage -->\n",
       "<g id=\"node9\" class=\"node\">\n",
       "<title>[8]: Write counts to Cloud Storage</title>\n",
       "<polygon fill=\"none\" stroke=\"blue\" points=\"261,-364.58 0,-364.58 0,-328.58 261,-328.58 261,-364.58\"/>\n",
       "<text text-anchor=\"middle\" x=\"130.5\" y=\"-342.88\" font-family=\"Times,serif\" font-size=\"14.00\" fill=\"blue\">[8]: Write counts to Cloud Storage</text>\n",
       "</g>\n",
       "<!-- counts&#45;&gt;[8]: Write counts to Cloud Storage -->\n",
       "<g id=\"edge5\" class=\"edge\">\n",
       "<title>counts&#45;&gt;[8]: Write counts to Cloud Storage</title>\n",
       "<path fill=\"none\" stroke=\"black\" d=\"M164.86,-406.06C158.52,-395.26 151.65,-383.57 145.73,-373.5\"/>\n",
       "<polygon fill=\"black\" stroke=\"black\" points=\"148.69,-371.63 140.61,-364.78 142.66,-375.18 148.69,-371.63\"/>\n",
       "</g>\n",
       "<!-- pcoll1430 -->\n",
       "<g id=\"node6\" class=\"node\">\n",
       "<title>pcoll1430</title>\n",
       "<ellipse fill=\"none\" stroke=\"blue\" cx=\"337.5\" cy=\"-442.18\" rx=\"18\" ry=\"18\"/>\n",
       "</g>\n",
       "<!-- [4]: lower&#45;&gt;pcoll1430 -->\n",
       "<g id=\"edge6\" class=\"edge\">\n",
       "<title>[4]: lower&#45;&gt;pcoll1430</title>\n",
       "<path fill=\"none\" stroke=\"black\" d=\"M331.78,-519.61C332.81,-505.89 334.27,-486.39 335.45,-470.53\"/>\n",
       "<polygon fill=\"black\" stroke=\"black\" points=\"338.97,-470.47 336.22,-460.24 331.99,-469.95 338.97,-470.47\"/>\n",
       "</g>\n",
       "<!-- [4]: lower_count -->\n",
       "<g id=\"node7\" class=\"node\">\n",
       "<title>[4]: lower_count</title>\n",
       "<polygon fill=\"none\" stroke=\"blue\" points=\"410,-364.58 279,-364.58 279,-328.58 410,-328.58 410,-364.58\"/>\n",
       "<text text-anchor=\"middle\" x=\"344.5\" y=\"-342.88\" font-family=\"Times,serif\" font-size=\"14.00\" fill=\"blue\">[4]: lower_count</text>\n",
       "</g>\n",
       "<!-- pcoll1430&#45;&gt;[4]: lower_count -->\n",
       "<g id=\"edge7\" class=\"edge\">\n",
       "<title>pcoll1430&#45;&gt;[4]: lower_count</title>\n",
       "<path fill=\"none\" stroke=\"black\" d=\"M338.78,-424.01C339.81,-410.29 341.27,-390.8 342.45,-374.93\"/>\n",
       "<polygon fill=\"black\" stroke=\"black\" points=\"345.97,-374.88 343.22,-364.64 338.99,-374.35 345.97,-374.88\"/>\n",
       "</g>\n",
       "<!-- lower_counts -->\n",
       "<g id=\"node8\" class=\"node\">\n",
       "<title>lower_counts</title>\n",
       "<ellipse fill=\"none\" stroke=\"blue\" cx=\"344.5\" cy=\"-221.09\" rx=\"71.49\" ry=\"71.49\"/>\n",
       "<text text-anchor=\"middle\" x=\"344.5\" y=\"-217.39\" font-family=\"Times,serif\" font-size=\"14.00\" fill=\"blue\">lower_counts</text>\n",
       "</g>\n",
       "<!-- [4]: lower_count&#45;&gt;lower_counts -->\n",
       "<g id=\"edge8\" class=\"edge\">\n",
       "<title>[4]: lower_count&#45;&gt;lower_counts</title>\n",
       "<path fill=\"none\" stroke=\"black\" d=\"M344.5,-328.41C344.5,-321.28 344.5,-312.45 344.5,-302.95\"/>\n",
       "<polygon fill=\"black\" stroke=\"black\" points=\"348,-302.85 344.5,-292.85 341,-302.85 348,-302.85\"/>\n",
       "</g>\n",
       "<!-- [8]: Write lower counts to Cloud Storage -->\n",
       "<g id=\"node11\" class=\"node\">\n",
       "<title>[8]: Write lower counts to Cloud Storage</title>\n",
       "<polygon fill=\"none\" stroke=\"blue\" points=\"497,-113.6 192,-113.6 192,-77.6 497,-77.6 497,-113.6\"/>\n",
       "<text text-anchor=\"middle\" x=\"344.5\" y=\"-91.9\" font-family=\"Times,serif\" font-size=\"14.00\" fill=\"blue\">[8]: Write lower counts to Cloud Storage</text>\n",
       "</g>\n",
       "<!-- lower_counts&#45;&gt;[8]: Write lower counts to Cloud Storage -->\n",
       "<g id=\"edge9\" class=\"edge\">\n",
       "<title>lower_counts&#45;&gt;[8]: Write lower counts to Cloud Storage</title>\n",
       "<path fill=\"none\" stroke=\"black\" d=\"M344.5,-149.33C344.5,-140.39 344.5,-131.71 344.5,-124.06\"/>\n",
       "<polygon fill=\"black\" stroke=\"black\" points=\"348,-124.01 344.5,-114.01 341,-124.01 348,-124.01\"/>\n",
       "</g>\n",
       "<!-- pcoll6167 -->\n",
       "<g id=\"node10\" class=\"node\">\n",
       "<title>pcoll6167</title>\n",
       "<ellipse fill=\"none\" stroke=\"blue\" cx=\"130.5\" cy=\"-221.09\" rx=\"18\" ry=\"18\"/>\n",
       "</g>\n",
       "<!-- [8]: Write counts to Cloud Storage&#45;&gt;pcoll6167 -->\n",
       "<g id=\"edge10\" class=\"edge\">\n",
       "<title>[8]: Write counts to Cloud Storage&#45;&gt;pcoll6167</title>\n",
       "<path fill=\"none\" stroke=\"black\" d=\"M130.5,-328.41C130.5,-307.95 130.5,-273.51 130.5,-249.39\"/>\n",
       "<polygon fill=\"black\" stroke=\"black\" points=\"134,-249.12 130.5,-239.12 127,-249.12 134,-249.12\"/>\n",
       "</g>\n",
       "<!-- _8 -->\n",
       "<g id=\"node12\" class=\"node\">\n",
       "<title>_8</title>\n",
       "<ellipse fill=\"none\" stroke=\"blue\" cx=\"344.5\" cy=\"-20.8\" rx=\"20.6\" ry=\"20.6\"/>\n",
       "<text text-anchor=\"middle\" x=\"344.5\" y=\"-17.1\" font-family=\"Times,serif\" font-size=\"14.00\" fill=\"blue\">_8</text>\n",
       "</g>\n",
       "<!-- [8]: Write lower counts to Cloud Storage&#45;&gt;_8 -->\n",
       "<g id=\"edge11\" class=\"edge\">\n",
       "<title>[8]: Write lower counts to Cloud Storage&#45;&gt;_8</title>\n",
       "<path fill=\"none\" stroke=\"black\" d=\"M344.5,-77.34C344.5,-69.75 344.5,-60.61 344.5,-51.95\"/>\n",
       "<polygon fill=\"black\" stroke=\"black\" points=\"348,-51.76 344.5,-41.76 341,-51.76 348,-51.76\"/>\n",
       "</g>\n",
       "</g>\n",
       "</svg>\n"
      ],
      "text/plain": [
       "<IPython.core.display.HTML object>"
      ]
     },
     "metadata": {},
     "output_type": "display_data"
    },
    {
     "data": {
      "application/javascript": [
       "\n",
       "        if (typeof window.interactive_beam_jquery == 'undefined') {\n",
       "          var jqueryScript = document.createElement('script');\n",
       "          jqueryScript.src = 'https://code.jquery.com/jquery-3.4.1.slim.min.js';\n",
       "          jqueryScript.type = 'text/javascript';\n",
       "          jqueryScript.onload = function() {\n",
       "            var datatableScript = document.createElement('script');\n",
       "            datatableScript.src = 'https://cdn.datatables.net/1.10.20/js/jquery.dataTables.min.js';\n",
       "            datatableScript.type = 'text/javascript';\n",
       "            datatableScript.onload = function() {\n",
       "              window.interactive_beam_jquery = jQuery.noConflict(true);\n",
       "              window.interactive_beam_jquery(document).ready(function($){\n",
       "                \n",
       "            $(\"#progress_indicator_eb3fe769d7e7893417a843f104f83ea1\").remove();\n",
       "              });\n",
       "            }\n",
       "            document.head.appendChild(datatableScript);\n",
       "          };\n",
       "          document.head.appendChild(jqueryScript);\n",
       "        } else {\n",
       "          window.interactive_beam_jquery(document).ready(function($){\n",
       "            \n",
       "            $(\"#progress_indicator_eb3fe769d7e7893417a843f104f83ea1\").remove();\n",
       "          });\n",
       "        }"
      ]
     },
     "metadata": {},
     "output_type": "display_data"
    }
   ],
   "source": [
    "# IMPORTANT! Ensure that the graph is correct before sending it out to Dataflow.\n",
    "# Because this is a notebook environment, unintended additions to the graph may have occurred when rerunning cells. \n",
    "ib.show_graph(p)\n"
   ]
  },
  {
   "cell_type": "code",
   "execution_count": 10,
   "id": "d9637c27-13c7-494a-b0d7-7a6de6ced2c3",
   "metadata": {
    "tags": []
   },
   "outputs": [],
   "source": [
    "pipeline_result = DataflowRunner().run_pipeline(p, options=options)\n"
   ]
  },
  {
   "cell_type": "code",
   "execution_count": 11,
   "id": "5f4a68fa-a43c-4d73-af11-803677fd3c9d",
   "metadata": {
    "tags": []
   },
   "outputs": [
    {
     "name": "stderr",
     "output_type": "stream",
     "text": [
      "/tmp/ipykernel_1064/2966784630.py:1: DeprecationWarning: Importing display from IPython.core.display is deprecated since IPython 7.14, please import from IPython display\n",
      "  from IPython.core.display import display, HTML\n"
     ]
    },
    {
     "data": {
      "text/html": [
       "Click <a href=\"https://console.cloud.google.com/dataflow/jobs/us-central1/2024-06-27_06_07_13-6343887635874750888?project=techlanders-internal\" target=\"_new\">here</a> for the details of your Dataflow job!"
      ],
      "text/plain": [
       "<IPython.core.display.HTML object>"
      ]
     },
     "metadata": {},
     "output_type": "display_data"
    }
   ],
   "source": [
    "from IPython.core.display import display, HTML\n",
    "url = ('https://console.cloud.google.com/dataflow/jobs/%s/%s?project=%s' % \n",
    "      (pipeline_result._job.location, pipeline_result._job.id, pipeline_result._job.projectId))\n",
    "display(HTML('Click <a href=\"%s\" target=\"_new\">here</a> for the details of your Dataflow job!' % url))"
   ]
  },
  {
   "cell_type": "code",
   "execution_count": 12,
   "id": "3cfcfcf8-f3a1-41c3-91dc-cb16e721f86f",
   "metadata": {
    "tags": []
   },
   "outputs": [
    {
     "data": {
      "text/plain": [
       "'DONE'"
      ]
     },
     "execution_count": 12,
     "metadata": {},
     "output_type": "execute_result"
    }
   ],
   "source": [
    "pipeline_result.wait_until_finish()"
   ]
  },
  {
   "cell_type": "code",
   "execution_count": null,
   "id": "ac17206d-9461-4682-b220-298371b9eedb",
   "metadata": {},
   "outputs": [],
   "source": []
  }
 ],
 "metadata": {
  "environment": {
   "kernel": "apache-beam-2.54.0",
   "name": ".m121",
   "type": "gcloud",
   "uri": "us-docker.pkg.dev/deeplearning-platform-release/gcr.io/:m121"
  },
  "kernelspec": {
   "display_name": "Apache Beam 2.54.0 (Local)",
   "language": "python",
   "name": "apache-beam-2.54.0"
  },
  "language_info": {
   "codemirror_mode": {
    "name": "ipython",
    "version": 3
   },
   "file_extension": ".py",
   "mimetype": "text/x-python",
   "name": "python",
   "nbconvert_exporter": "python",
   "pygments_lexer": "ipython3",
   "version": "3.10.14"
  }
 },
 "nbformat": 4,
 "nbformat_minor": 5
}
